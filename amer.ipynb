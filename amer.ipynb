{
 "cells": [
  {
   "cell_type": "code",
   "execution_count": 2,
   "id": "1ad01471",
   "metadata": {},
   "outputs": [
    {
     "name": "stdout",
     "output_type": "stream",
     "text": [
      "Collecting yfinanceNote: you may need to restart the kernel to use updated packages.\n",
      "  Downloading yfinance-0.2.10-py2.py3-none-any.whl (59 kB)\n",
      "Collecting frozendict>=2.3.4\n",
      "  Downloading frozendict-2.3.4-cp38-cp38-win_amd64.whl (34 kB)\n",
      "\n"
     ]
    },
    {
     "name": "stderr",
     "output_type": "stream",
     "text": [
      "ERROR: pip's dependency resolver does not currently take into account all the packages that are installed. This behaviour is the source of the following dependency conflicts.\n",
      "conda-repo-cli 1.0.4 requires pathlib, which is not installed.\n",
      "anaconda-project 0.9.1 requires ruamel-yaml, which is not installed.\n",
      "scipy 1.6.2 requires numpy<1.23.0,>=1.16.5, but you have numpy 1.24.2 which is incompatible.\n"
     ]
    },
    {
     "name": "stdout",
     "output_type": "stream",
     "text": [
      "Collecting requests>=2.26\n",
      "  Downloading requests-2.28.2-py3-none-any.whl (62 kB)\n",
      "Requirement already satisfied: appdirs>=1.4.4 in c:\\users\\isaac\\anaconda3\\lib\\site-packages (from yfinance) (1.4.4)\n",
      "Requirement already satisfied: html5lib>=1.1 in c:\\users\\isaac\\anaconda3\\lib\\site-packages (from yfinance) (1.1)\n",
      "Collecting lxml>=4.9.1\n",
      "  Downloading lxml-4.9.2-cp38-cp38-win_amd64.whl (3.9 MB)\n",
      "Collecting pytz>=2022.5\n",
      "  Downloading pytz-2022.7.1-py2.py3-none-any.whl (499 kB)\n",
      "Requirement already satisfied: cryptography>=3.3.2 in c:\\users\\isaac\\anaconda3\\lib\\site-packages (from yfinance) (3.4.7)\n",
      "Collecting multitasking>=0.0.7\n",
      "  Downloading multitasking-0.0.11-py3-none-any.whl (8.5 kB)\n",
      "Requirement already satisfied: numpy>=1.16.5 in c:\\users\\isaac\\anaconda3\\lib\\site-packages (from yfinance) (1.20.1)\n",
      "Collecting beautifulsoup4>=4.11.1\n",
      "  Downloading beautifulsoup4-4.11.2-py3-none-any.whl (129 kB)\n",
      "Collecting pandas>=1.3.0\n",
      "  Downloading pandas-1.5.3-cp38-cp38-win_amd64.whl (11.0 MB)\n",
      "Requirement already satisfied: soupsieve>1.2 in c:\\users\\isaac\\anaconda3\\lib\\site-packages (from beautifulsoup4>=4.11.1->yfinance) (2.2.1)\n",
      "Requirement already satisfied: cffi>=1.12 in c:\\users\\isaac\\anaconda3\\lib\\site-packages (from cryptography>=3.3.2->yfinance) (1.14.5)\n",
      "Requirement already satisfied: pycparser in c:\\users\\isaac\\anaconda3\\lib\\site-packages (from cffi>=1.12->cryptography>=3.3.2->yfinance) (2.20)\n",
      "Requirement already satisfied: webencodings in c:\\users\\isaac\\anaconda3\\lib\\site-packages (from html5lib>=1.1->yfinance) (0.5.1)\n",
      "Requirement already satisfied: six>=1.9 in c:\\users\\isaac\\anaconda3\\lib\\site-packages (from html5lib>=1.1->yfinance) (1.15.0)\n",
      "Requirement already satisfied: python-dateutil>=2.8.1 in c:\\users\\isaac\\anaconda3\\lib\\site-packages (from pandas>=1.3.0->yfinance) (2.8.2)\n",
      "Collecting numpy>=1.16.5\n",
      "  Downloading numpy-1.24.2-cp38-cp38-win_amd64.whl (14.9 MB)\n",
      "Collecting charset-normalizer<4,>=2\n",
      "  Downloading charset_normalizer-3.0.1-cp38-cp38-win_amd64.whl (95 kB)\n",
      "Requirement already satisfied: certifi>=2017.4.17 in c:\\users\\isaac\\anaconda3\\lib\\site-packages (from requests>=2.26->yfinance) (2020.12.5)\n",
      "Requirement already satisfied: idna<4,>=2.5 in c:\\users\\isaac\\anaconda3\\lib\\site-packages (from requests>=2.26->yfinance) (2.10)\n",
      "Requirement already satisfied: urllib3<1.27,>=1.21.1 in c:\\users\\isaac\\anaconda3\\lib\\site-packages (from requests>=2.26->yfinance) (1.26.4)\n",
      "Installing collected packages: pytz, numpy, charset-normalizer, requests, pandas, multitasking, lxml, frozendict, beautifulsoup4, yfinance\n",
      "  Attempting uninstall: pytz\n",
      "    Found existing installation: pytz 2021.1\n",
      "    Uninstalling pytz-2021.1:\n",
      "      Successfully uninstalled pytz-2021.1\n",
      "  Attempting uninstall: numpy\n",
      "    Found existing installation: numpy 1.20.1\n",
      "    Uninstalling numpy-1.20.1:\n",
      "      Successfully uninstalled numpy-1.20.1\n",
      "  Attempting uninstall: requests\n",
      "    Found existing installation: requests 2.25.1\n",
      "    Uninstalling requests-2.25.1:\n",
      "      Successfully uninstalled requests-2.25.1\n",
      "  Attempting uninstall: pandas\n",
      "    Found existing installation: pandas 1.2.4\n",
      "    Uninstalling pandas-1.2.4:\n",
      "      Successfully uninstalled pandas-1.2.4\n",
      "  Attempting uninstall: lxml\n",
      "    Found existing installation: lxml 4.6.3\n",
      "    Uninstalling lxml-4.6.3:\n",
      "      Successfully uninstalled lxml-4.6.3\n",
      "  Attempting uninstall: beautifulsoup4\n",
      "    Found existing installation: beautifulsoup4 4.9.3\n",
      "    Uninstalling beautifulsoup4-4.9.3:\n",
      "      Successfully uninstalled beautifulsoup4-4.9.3\n",
      "Successfully installed beautifulsoup4-4.11.2 charset-normalizer-3.0.1 frozendict-2.3.4 lxml-4.9.2 multitasking-0.0.11 numpy-1.24.2 pandas-1.5.3 pytz-2022.7.1 requests-2.28.2 yfinance-0.2.10\n"
     ]
    }
   ],
   "source": [
    "#pip install yfinance \n"
   ]
  },
  {
   "cell_type": "code",
   "execution_count": 5,
   "id": "b583ffac",
   "metadata": {},
   "outputs": [
    {
     "name": "stdout",
     "output_type": "stream",
     "text": [
      "Collecting pandas-datareaderNote: you may need to restart the kernel to use updated packages.\n",
      "\n",
      "  Downloading pandas_datareader-0.10.0-py3-none-any.whl (109 kB)\n",
      "Requirement already satisfied: lxml in c:\\users\\isaac\\anaconda3\\lib\\site-packages (from pandas-datareader) (4.9.2)\n",
      "Requirement already satisfied: requests>=2.19.0 in c:\\users\\isaac\\anaconda3\\lib\\site-packages (from pandas-datareader) (2.28.2)\n",
      "Requirement already satisfied: pandas>=0.23 in c:\\users\\isaac\\anaconda3\\lib\\site-packages (from pandas-datareader) (1.5.3)\n",
      "Requirement already satisfied: python-dateutil>=2.8.1 in c:\\users\\isaac\\anaconda3\\lib\\site-packages (from pandas>=0.23->pandas-datareader) (2.8.2)\n",
      "Requirement already satisfied: pytz>=2020.1 in c:\\users\\isaac\\anaconda3\\lib\\site-packages (from pandas>=0.23->pandas-datareader) (2022.7.1)\n",
      "Requirement already satisfied: numpy>=1.20.3 in c:\\users\\isaac\\anaconda3\\lib\\site-packages (from pandas>=0.23->pandas-datareader) (1.24.2)\n",
      "Requirement already satisfied: six>=1.5 in c:\\users\\isaac\\anaconda3\\lib\\site-packages (from python-dateutil>=2.8.1->pandas>=0.23->pandas-datareader) (1.15.0)\n",
      "Requirement already satisfied: idna<4,>=2.5 in c:\\users\\isaac\\anaconda3\\lib\\site-packages (from requests>=2.19.0->pandas-datareader) (2.10)\n",
      "Requirement already satisfied: certifi>=2017.4.17 in c:\\users\\isaac\\anaconda3\\lib\\site-packages (from requests>=2.19.0->pandas-datareader) (2020.12.5)\n",
      "Requirement already satisfied: urllib3<1.27,>=1.21.1 in c:\\users\\isaac\\anaconda3\\lib\\site-packages (from requests>=2.19.0->pandas-datareader) (1.26.4)\n",
      "Requirement already satisfied: charset-normalizer<4,>=2 in c:\\users\\isaac\\anaconda3\\lib\\site-packages (from requests>=2.19.0->pandas-datareader) (3.0.1)\n",
      "Installing collected packages: pandas-datareader\n",
      "Successfully installed pandas-datareader-0.10.0\n"
     ]
    }
   ],
   "source": [
    "#pip install pandas-datareader\n"
   ]
  },
  {
   "cell_type": "code",
   "execution_count": 6,
   "id": "5d422328",
   "metadata": {},
   "outputs": [
    {
     "name": "stderr",
     "output_type": "stream",
     "text": [
      "C:\\Users\\isaac\\anaconda3\\lib\\site-packages\\scipy\\__init__.py:138: UserWarning: A NumPy version >=1.16.5 and <1.23.0 is required for this version of SciPy (detected version 1.24.2)\n",
      "  warnings.warn(f\"A NumPy version >={np_minversion} and <{np_maxversion} is required for this version of \"\n"
     ]
    }
   ],
   "source": [
    "import pandas as pd\n",
    "import pandas_datareader.data as web\n",
    "import numpy as np\n",
    "import seaborn as sns\n",
    "import matplotlib.pyplot as plt\n",
    "import plotly.graph_objects as go\n",
    "import plotly.express as px\n",
    "from plotly.subplots import make_subplots\n",
    "\n",
    "#date\n",
    "from datetime import datetime\n",
    "\n",
    "#Yfinance\n",
    "import yfinance as yf\n",
    "yf.pdr_override()\n",
    "\n",
    "#avisos\n",
    "import warnings\n",
    "warnings.filterwarnings('ignore')\n"
   ]
  },
  {
   "cell_type": "code",
   "execution_count": 17,
   "id": "ee3480a4",
   "metadata": {},
   "outputs": [
    {
     "name": "stdout",
     "output_type": "stream",
     "text": [
      "[*********************100%***********************]  1 of 1 completed\n"
     ]
    },
    {
     "data": {
      "text/html": [
       "<div>\n",
       "<style scoped>\n",
       "    .dataframe tbody tr th:only-of-type {\n",
       "        vertical-align: middle;\n",
       "    }\n",
       "\n",
       "    .dataframe tbody tr th {\n",
       "        vertical-align: top;\n",
       "    }\n",
       "\n",
       "    .dataframe thead th {\n",
       "        text-align: right;\n",
       "    }\n",
       "</style>\n",
       "<table border=\"1\" class=\"dataframe\">\n",
       "  <thead>\n",
       "    <tr style=\"text-align: right;\">\n",
       "      <th></th>\n",
       "      <th>Open</th>\n",
       "      <th>High</th>\n",
       "      <th>Low</th>\n",
       "      <th>Close</th>\n",
       "      <th>Adj Close</th>\n",
       "      <th>Volume</th>\n",
       "    </tr>\n",
       "    <tr>\n",
       "      <th>Date</th>\n",
       "      <th></th>\n",
       "      <th></th>\n",
       "      <th></th>\n",
       "      <th></th>\n",
       "      <th></th>\n",
       "      <th></th>\n",
       "    </tr>\n",
       "  </thead>\n",
       "  <tbody>\n",
       "    <tr>\n",
       "      <th>2022-08-08</th>\n",
       "      <td>29.158400</td>\n",
       "      <td>29.158400</td>\n",
       "      <td>28.999300</td>\n",
       "      <td>28.999300</td>\n",
       "      <td>28.999300</td>\n",
       "      <td>153</td>\n",
       "    </tr>\n",
       "    <tr>\n",
       "      <th>2022-08-09</th>\n",
       "      <td>28.886600</td>\n",
       "      <td>28.886600</td>\n",
       "      <td>28.886600</td>\n",
       "      <td>28.886600</td>\n",
       "      <td>28.886600</td>\n",
       "      <td>170</td>\n",
       "    </tr>\n",
       "    <tr>\n",
       "      <th>2022-08-10</th>\n",
       "      <td>29.325701</td>\n",
       "      <td>29.325701</td>\n",
       "      <td>29.325701</td>\n",
       "      <td>29.325701</td>\n",
       "      <td>29.325701</td>\n",
       "      <td>6</td>\n",
       "    </tr>\n",
       "    <tr>\n",
       "      <th>2022-08-11</th>\n",
       "      <td>29.969999</td>\n",
       "      <td>29.969999</td>\n",
       "      <td>29.425900</td>\n",
       "      <td>29.425900</td>\n",
       "      <td>29.425900</td>\n",
       "      <td>255</td>\n",
       "    </tr>\n",
       "    <tr>\n",
       "      <th>2022-08-12</th>\n",
       "      <td>29.704000</td>\n",
       "      <td>29.704000</td>\n",
       "      <td>29.704000</td>\n",
       "      <td>29.704000</td>\n",
       "      <td>29.704000</td>\n",
       "      <td>179</td>\n",
       "    </tr>\n",
       "  </tbody>\n",
       "</table>\n",
       "</div>"
      ],
      "text/plain": [
       "                 Open       High        Low      Close  Adj Close  Volume\n",
       "Date                                                                     \n",
       "2022-08-08  29.158400  29.158400  28.999300  28.999300  28.999300     153\n",
       "2022-08-09  28.886600  28.886600  28.886600  28.886600  28.886600     170\n",
       "2022-08-10  29.325701  29.325701  29.325701  29.325701  29.325701       6\n",
       "2022-08-11  29.969999  29.969999  29.425900  29.425900  29.425900     255\n",
       "2022-08-12  29.704000  29.704000  29.704000  29.704000  29.704000     179"
      ]
     },
     "execution_count": 17,
     "metadata": {},
     "output_type": "execute_result"
    }
   ],
   "source": [
    "#download de dados\n",
    "dados = web.get_data_yahoo('AMER', period='6MO')\n",
    "dados.head()"
   ]
  },
  {
   "cell_type": "code",
   "execution_count": null,
   "id": "1090c2bf",
   "metadata": {},
   "outputs": [],
   "source": []
  }
 ],
 "metadata": {
  "kernelspec": {
   "display_name": "Python 3",
   "language": "python",
   "name": "python3"
  },
  "language_info": {
   "codemirror_mode": {
    "name": "ipython",
    "version": 3
   },
   "file_extension": ".py",
   "mimetype": "text/x-python",
   "name": "python",
   "nbconvert_exporter": "python",
   "pygments_lexer": "ipython3",
   "version": "3.8.8"
  }
 },
 "nbformat": 4,
 "nbformat_minor": 5
}
